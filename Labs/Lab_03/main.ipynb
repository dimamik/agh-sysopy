{
 "metadata": {
  "language_info": {
   "codemirror_mode": {
    "name": "ipython",
    "version": 3
   },
   "file_extension": ".py",
   "mimetype": "text/x-python",
   "name": "python",
   "nbconvert_exporter": "python",
   "pygments_lexer": "ipython3",
   "version": "3.7.5"
  },
  "orig_nbformat": 2,
  "kernelspec": {
   "name": "python3",
   "display_name": "Python 3.7.5 32-bit",
   "metadata": {
    "interpreter": {
     "hash": "227bdda873596b812cb1efbbd265b9b2fe12e82c467e1e539f6f898a23b5e5e5"
    }
   }
  }
 },
 "nbformat": 4,
 "nbformat_minor": 2,
 "cells": [
  {
   "cell_type": "code",
   "execution_count": 6,
   "metadata": {},
   "outputs": [],
   "source": [
    "import random\n",
    "from pathlib import Path\n",
    "s1 = \"\"\"\n",
    "-------------------------This is File From File Pattern 1-------------------------\n",
    "There is SEQUENCE: Hello there everybody! \n",
    "and many many more...\n",
    "\"\"\"\n",
    "\n",
    "s2 = \"\"\"\n",
    "-------------------------This is File From File Pattern 2-------------------------\n",
    "There is NO Muching sequence \n",
    "and many many more...\n",
    "\"\"\"\n",
    "FILE_SIZE = 5\n",
    "START_PATH = \"zad3/Start\"\n",
    "\n"
   ]
  },
  {
   "cell_type": "code",
   "execution_count": 7,
   "metadata": {},
   "outputs": [],
   "source": [
    "def write_recursively(START_PATH,depth,max_depth):\n",
    "    if (depth >max_depth ):\n",
    "        return\n",
    "    for i in range(FILE_SIZE):\n",
    "        path = START_PATH + \"/\" + str(i) + \"1/\" + \".txt\"\n",
    "        path = f\"{START_PATH}/{i}\"\n",
    "        Path(path).mkdir(parents=True, exist_ok=True)\n",
    "        with open(f\"{path}/{i}.txt\",\"w\") as file:\n",
    "            x = random.randint(0,2)\n",
    "            if (x == 0):\n",
    "                file.write(s1)\n",
    "            elif (x==1):\n",
    "                file.write(s2)\n",
    "            else:\n",
    "                write_recursively(f\"{START_PATH}/{i}\",depth+1,max_depth)\n"
   ]
  },
  {
   "cell_type": "code",
   "execution_count": 8,
   "metadata": {},
   "outputs": [],
   "source": [
    "write_recursively(START_PATH,0,5)"
   ]
  }
 ]
}