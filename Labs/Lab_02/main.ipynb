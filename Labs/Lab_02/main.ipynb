{
 "metadata": {
  "language_info": {
   "codemirror_mode": {
    "name": "ipython",
    "version": 3
   },
   "file_extension": ".py",
   "mimetype": "text/x-python",
   "name": "python",
   "nbconvert_exporter": "python",
   "pygments_lexer": "ipython3",
   "version": "3.7.5-final"
  },
  "orig_nbformat": 2,
  "kernelspec": {
   "name": "python3",
   "display_name": "Python 3.7.5 32-bit",
   "metadata": {
    "interpreter": {
     "hash": "227bdda873596b812cb1efbbd265b9b2fe12e82c467e1e539f6f898a23b5e5e5"
    }
   }
  }
 },
 "nbformat": 4,
 "nbformat_minor": 2,
 "cells": [
  {
   "cell_type": "code",
   "execution_count": 25,
   "metadata": {},
   "outputs": [],
   "source": [
    "import random\n",
    "lines = 1000\n",
    "line_size = 50\n",
    "with open(\"zad5/in.txt\",\"w\") as file:\n",
    "    for _ in range(lines):\n",
    "        count = random.randint(1,9)\n",
    "        string = \"\"\n",
    "        for i in range(count):\n",
    "            string+=str(i)*line_size\n",
    "        string+=\"\\n\"\n",
    "        file.write(string)\n"
   ]
  },
  {
   "cell_type": "code",
   "execution_count": 2,
   "metadata": {},
   "outputs": [],
   "source": [
    "import random\n",
    "lines = 10000\n",
    "line_size = 50\n",
    "min_int = 0\n",
    "max_int = 999\n",
    "with open(\"zad3/dane.txt\",\"w\") as file:\n",
    "    for _ in range(lines):\n",
    "        count = random.randint(1,9)\n",
    "        file.write(str(random.randint(min_int,max_int)) + \"\\n\")\n",
    "\n"
   ]
  },
  {
   "cell_type": "code",
   "execution_count": 19,
   "metadata": {},
   "outputs": [],
   "source": [
    "import random\n",
    "import string\n",
    "lines = 10000\n",
    "line_size = 50\n",
    "min_int = 0\n",
    "max_int = 999\n",
    "with open(\"zad4/in.txt\",\"w\") as file:\n",
    "    for _ in range(lines):\n",
    "        count = random.randint(1,9)\n",
    "        if (count==1):\n",
    "            file.write(\"This needs to be replaced\\n\")\n",
    "        else:\n",
    "            file.write(\n",
    "        ''.join(random.choices(string.ascii_uppercase + string.digits, k=max_int)) + '\\n'\n",
    "\n",
    "            )\n"
   ]
  },
  {
   "cell_type": "code",
   "execution_count": 5,
   "metadata": {},
   "outputs": [],
   "source": [
    "import random\n",
    "import string\n",
    "lines = 1000\n",
    "line_size = 50\n",
    "min_int = 0\n",
    "max_int = 50\n",
    "with open(\"zad2/in.txt\",\"w\") as file:\n",
    "    for _ in range(lines):\n",
    "        file.write(\n",
    "        ''.join(random.choices(string.ascii_uppercase + string.digits, k=random.randint(min_int,max_int))) + '\\n'\n",
    "\n",
    "            )"
   ]
  },
  {
   "cell_type": "code",
   "execution_count": 5,
   "metadata": {},
   "outputs": [],
   "source": [
    "import random\n",
    "import string\n",
    "lines_first = 1000\n",
    "lines_second = 1003\n",
    "with open(\"zad1/1.txt\",\"w\") as file:\n",
    "    for i in range(lines_first):\n",
    "        file.write(f\"First File {i}\\n\")\n",
    "with open(\"zad1/2.txt\",\"w\") as file:\n",
    "    for i in range(lines_second):\n",
    "        file.write(f\"Second File {i}\\n\")"
   ]
  }
 ]
}