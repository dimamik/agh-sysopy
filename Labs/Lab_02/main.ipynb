{
 "metadata": {
  "language_info": {
   "codemirror_mode": {
    "name": "ipython",
    "version": 3
   },
   "file_extension": ".py",
   "mimetype": "text/x-python",
   "name": "python",
   "nbconvert_exporter": "python",
   "pygments_lexer": "ipython3",
   "version": "3.7.5-final"
  },
  "orig_nbformat": 2,
  "kernelspec": {
   "name": "python3",
   "display_name": "Python 3.7.5 32-bit",
   "metadata": {
    "interpreter": {
     "hash": "227bdda873596b812cb1efbbd265b9b2fe12e82c467e1e539f6f898a23b5e5e5"
    }
   }
  }
 },
 "nbformat": 4,
 "nbformat_minor": 2,
 "cells": [
  {
   "cell_type": "code",
   "execution_count": 13,
   "metadata": {},
   "outputs": [
    {
     "output_type": "execute_result",
     "data": {
      "text/plain": [
       "48"
      ]
     },
     "metadata": {},
     "execution_count": 13
    }
   ],
   "source": [
    "string = \"Hello World This it my Chempionship\"\r\n",
    "n = 5\r\n",
    "len(string)\r\n",
    "chunks = [string[i:i+n] for i in range(0, len(string), n)]\r\n",
    "len(chunks)*2 - 1 + len(string)"
   ]
  }
 ]
}